{
  "nbformat": 4,
  "nbformat_minor": 0,
  "metadata": {
    "colab": {
      "name": "Assesment.ipynb",
      "provenance": []
    },
    "kernelspec": {
      "name": "python3",
      "display_name": "Python 3"
    },
    "language_info": {
      "name": "python"
    }
  },
  "cells": [
    {
      "cell_type": "code",
      "metadata": {
        "colab": {
          "base_uri": "https://localhost:8080/"
        },
        "id": "s5RN5PfG5kF2",
        "outputId": "85d77a20-c873-439a-fa47-b2579e29b36d"
      },
      "source": [
        "import sqlite3\n",
        "import pandas as pd\n",
        "\n",
        "conn = sqlite3.connect('customer_data.db')\n",
        "print(\"Opened database successfully\");"
      ],
      "execution_count": 10,
      "outputs": [
        {
          "output_type": "stream",
          "text": [
            "Opened database successfully\n"
          ],
          "name": "stdout"
        }
      ]
    },
    {
      "cell_type": "code",
      "metadata": {
        "colab": {
          "base_uri": "https://localhost:8080/"
        },
        "id": "ThwaTT2t5yK7",
        "outputId": "dbfc5cf0-17b5-4ae6-bdcb-37d95e78222d"
      },
      "source": [
        "# Create Table\n",
        "q1='''CREATE TABLE Customer_Details(\n",
        "    Customer_Name VARCHAR(255) NOT NULL,\n",
        "    Customer_Id VARCHAR(255) NOT NULL,\n",
        "    Open_Date DATE NOT NULL,\n",
        "    Last_Consulted_Date DATE,\n",
        "    Vaccination_Type CHAR(5),\n",
        "    Dr_consulted CHAR(255),\n",
        "    State CHAR(5),\n",
        "    Country CHAR(5),\n",
        "    Postal_Code INT,\n",
        "    DOB DATE,\n",
        "    Is_Active CHAR,\n",
        "    PRIMARY KEY(Customer_Name)\n",
        "    )'''\n",
        "\n",
        "conn.execute(q1)"
      ],
      "execution_count": null,
      "outputs": [
        {
          "output_type": "execute_result",
          "data": {
            "text/plain": [
              "<sqlite3.Cursor at 0x7ff7c7d0cc70>"
            ]
          },
          "metadata": {},
          "execution_count": 2
        }
      ]
    },
    {
      "cell_type": "code",
      "metadata": {
        "colab": {
          "base_uri": "https://localhost:8080/"
        },
        "id": "eIJgRs4D58kk",
        "outputId": "fb8d1b9c-1ecb-4b3f-8b0c-f509a3ecd100"
      },
      "source": [
        "#insert data\n",
        "conn.execute('''INSERT INTO Customer_Details VALUES ('Alex','123457','20101012','20121013','MVD','Paul','SA','USA',42516,'06031987','A')''')\n",
        "conn.execute('''INSERT INTO Customer_Details VALUES ('John','123458','20101012','20121013','MVD','Paul','TN','IND',42587,'06031987','A')''')\n",
        "conn.execute('''INSERT INTO Customer_Details VALUES ('Mathew','123459','20101012','20121013','MVD','Paul','WAS','PHIL',45289,'06031987','A')''')\n",
        "conn.execute('''INSERT INTO Customer_Details VALUES ('Matt','12345','20101012','20121013','MVD','Paul','BOS','NYC',45127,'06031987','A')''')\n",
        "conn.execute('''INSERT INTO Customer_Details VALUES ('Jacob','1256','20101012','20121013','MVD','Paul','VIC','AU',49875,'06031987','A')''')"
      ],
      "execution_count": null,
      "outputs": [
        {
          "output_type": "execute_result",
          "data": {
            "text/plain": [
              "<sqlite3.Cursor at 0x7ff7c5cb1f80>"
            ]
          },
          "metadata": {},
          "execution_count": 3
        }
      ]
    },
    {
      "cell_type": "code",
      "metadata": {
        "id": "ENe4YLhk6egp"
      },
      "source": [
        "# Dataload in CSV\n",
        "s1 = '''select * from Customer_Details'''\n",
        "df = pd.read_sql_query(s1,conn)\n",
        "dataframe = pd.DataFrame(df)\n",
        "dataframe.to_csv(\"/content/costumer_details.csv\",sep='|',index=False)"
      ],
      "execution_count": null,
      "outputs": []
    },
    {
      "cell_type": "code",
      "metadata": {
        "colab": {
          "base_uri": "https://localhost:8080/"
        },
        "id": "k86C6bGX7PrX",
        "outputId": "11f573db-337c-4d44-d261-cb778619e8ed"
      },
      "source": [
        "df2 = pd.read_csv(\"/content/costumer_details.csv\")\n",
        "print(df2)"
      ],
      "execution_count": null,
      "outputs": [
        {
          "output_type": "stream",
          "text": [
            "  Customer_Name|Customer_Id|Open_Date|Last_Consulted_Date|Vaccination_Type|Dr_consulted|State|Country|Postal_Code|DOB|Is_Active\n",
            "0  Alex|123457|20101012|20121013|MVD|Paul|SA|USA|...                                                                           \n",
            "1  John|123458|20101012|20121013|MVD|Paul|TN|IND|...                                                                           \n",
            "2  Mathew|123459|20101012|20121013|MVD|Paul|WAS|P...                                                                           \n",
            "3  Matt|12345|20101012|20121013|MVD|Paul|BOS|NYC|...                                                                           \n",
            "4  Jacob|1256|20101012|20121013|MVD|Paul|VIC|AU|4...                                                                           \n"
          ],
          "name": "stdout"
        }
      ]
    },
    {
      "cell_type": "code",
      "metadata": {
        "id": "nN4D9K2j7XJC"
      },
      "source": [
        "# Distinct countries\n",
        "q3='''SELECT DISTINCT Country FROM Customer_Details'''\n",
        "Countries = conn.execute(q3)"
      ],
      "execution_count": null,
      "outputs": []
    },
    {
      "cell_type": "code",
      "metadata": {
        "id": "AneA-Bru744y"
      },
      "source": [
        "con = []\n",
        "for i in Countries:\n",
        "  con.append(i[0])  "
      ],
      "execution_count": null,
      "outputs": []
    },
    {
      "cell_type": "code",
      "metadata": {
        "id": "Hi9FJNOA8AN0"
      },
      "source": [
        "# Create Table Per Country\n",
        "for i in range(len(con)):\n",
        "  conn.execute('CREATE TABLE \"{}\" AS SELECT * FROM Customer_Details WHERE Country = \"{}\"'.format(con[i],con[i]))"
      ],
      "execution_count": null,
      "outputs": []
    },
    {
      "cell_type": "code",
      "metadata": {
        "colab": {
          "base_uri": "https://localhost:8080/"
        },
        "id": "mrtNI0dm8eyK",
        "outputId": "97d2e985-ec5d-4ad0-ec78-a43a9d7d2a7e"
      },
      "source": [
        "# Example For India Country\n",
        "c = conn.execute('''select * from IND''')\n",
        "for row in c:\n",
        "  print(row)"
      ],
      "execution_count": null,
      "outputs": [
        {
          "output_type": "stream",
          "text": [
            "('John', '123458', 20101012, 20121013, 'MVD', 'Paul', 'TN', 'IND', 42587, 6031987, 'A')\n"
          ],
          "name": "stdout"
        }
      ]
    },
    {
      "cell_type": "code",
      "metadata": {
        "id": "VCu82Z9Q80aU"
      },
      "source": [
        ""
      ],
      "execution_count": null,
      "outputs": []
    }
  ]
}